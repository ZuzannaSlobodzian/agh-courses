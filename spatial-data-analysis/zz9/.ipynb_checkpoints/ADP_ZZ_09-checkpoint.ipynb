{
 "cells": [
  {
   "cell_type": "markdown",
   "id": "014c9509",
   "metadata": {
    "deletable": false,
    "editable": false,
    "nbgrader": {
     "cell_type": "markdown",
     "checksum": "a4d572b9cb35f7417343f3db3cd5a898",
     "grade": false,
     "grade_id": "cell-fcd2666579131b77",
     "locked": true,
     "schema_version": 3,
     "solution": false,
     "task": false
    },
    "tags": []
   },
   "source": [
    "# Analiza danych przestrzennych - ćwiczenia laboratoryjne 2022/2023\n",
    "\n",
    "Ten notatnik zalicza się do grupy zestawów zadań, na podstawie których odbywa się zaliczenie ćwiczeń i podlega zwrotowi do oceny w ustalonym na zajęciach terminie.\n",
    "\n",
    "Uwagi ogólne:\n",
    "- Podczas wykonywania zadań należy korzystać wyłącznie z pakietów zaimportowanych na początku notatnika oraz z pakietów wchodzących w skład standardowej biblioteki Pythona, które można zaimportować samodzielnie we wskazanej komórce.\n",
    "- Swoje rozwiązania należy wprowadzać wyłącznie w miejce następujących fragmentów kodu:<br/> ` # YOUR CODE HERE`<br/> ` raise NotImplementedError()`<br/> Nie należy w żaden sposób modyfikować pozostałych fragmentów kodu oraz elementów notatnika, w szczególności dodawać lub usuwać komórek oraz zmieniać nazwy pliku.\n",
    "- Jeżeli zestaw zadań wymaga skorzystania z funkcji przygotowanych w ramach wcześniejszych zestawów zadań należy je umieścić we wskazanej komórce.\n",
    "- Wszystkie wykresy powinny być wykonane w jednolitym, przejrzystym i czytelnym stylu, mieć nadane tytuły, opisane osie oraz odpowiednio dobrany rozmiar, wielkość punktów i grubość linii. Proporcje osi wykresów przedstawiających rozkłady punktów powinny być dobrane tak, aby wykresy odzwierciedlały rzeczywisty rozkład punktów w przestrzeni.\n",
    "- Zadania, które powodują wyświetlenie komunikatu o błędzie przerywającym wykonywanie kodu nie podlegają ocenie.\n",
    "\n",
    "Przed odesłaniem zestawu zadań do oceny proszę uzupełnić komórkę z danymi autorów rozwiązania (`NAME` - nazwa grupy, `COLLABORATORS` - imiona, nazwiska i numery indeksów członków grupy) oraz upewnić się, że notatnik działa zgodnie z oczekiwaniami. W tym celu należy skorzystać z opcji **Restart Kernel and Run All Cells...** dostępnej na górnej belce notatnika pod symbolem $\\blacktriangleright\\blacktriangleright$. "
   ]
  },
  {
   "cell_type": "code",
   "execution_count": 1,
   "id": "99378fc8",
   "metadata": {},
   "outputs": [],
   "source": [
    "NAME = \"GIN-12\"\n",
    "COLLABORATORS = \"Zuzanna Słobodzian, Anna Staniszewska, Rafał Żegleń\""
   ]
  },
  {
   "cell_type": "markdown",
   "id": "4d2a4435",
   "metadata": {
    "deletable": false,
    "editable": false,
    "nbgrader": {
     "cell_type": "markdown",
     "checksum": "eddc8826810e4a6f7bf68319da334bd9",
     "grade": false,
     "grade_id": "cell-109006d425e5cf83",
     "locked": true,
     "schema_version": 3,
     "solution": false,
     "task": false
    },
    "tags": []
   },
   "source": [
    "---"
   ]
  },
  {
   "cell_type": "markdown",
   "id": "09ae627f-7781-432c-92be-054e5c5f19d0",
   "metadata": {
    "deletable": false,
    "editable": false,
    "nbgrader": {
     "cell_type": "markdown",
     "checksum": "62c6d1377b92635ef278c94e21e7e9ab",
     "grade": false,
     "grade_id": "cell-be413733df21fa86",
     "locked": true,
     "schema_version": 3,
     "solution": false,
     "task": false
    },
    "tags": []
   },
   "source": [
    "## Zestaw zadań 9: Analiza danych przestrzennych z wykorzystaniem pakietów GeoPandas i PySAL (część 3)"
   ]
  },
  {
   "cell_type": "code",
   "execution_count": 2,
   "id": "1d9566ae-0c1b-4f68-9203-c5924a3651ae",
   "metadata": {
    "deletable": false,
    "editable": false,
    "nbgrader": {
     "cell_type": "code",
     "checksum": "29dc1af3dadc2aa89c6596343c570512",
     "grade": false,
     "grade_id": "cell-baaf088fa7f91aec",
     "locked": true,
     "schema_version": 3,
     "solution": false,
     "task": false
    },
    "tags": []
   },
   "outputs": [],
   "source": [
    "import numpy as np\n",
    "import pandas as pd\n",
    "import scipy as sp\n",
    "import matplotlib as mpl\n",
    "import matplotlib.pyplot as plt\n",
    "import seaborn as sns\n",
    "import geopandas as gpd\n",
    "import libpysal as ps\n",
    "import pointpats as pp\n",
    "\n",
    "import warnings\n",
    "warnings.simplefilter(action='ignore', category=FutureWarning)"
   ]
  },
  {
   "cell_type": "code",
   "execution_count": 3,
   "id": "316bb8bc-c226-49f2-9e30-21fcf0edd040",
   "metadata": {},
   "outputs": [],
   "source": [
    "# Miejsce do importu pakietów wchodzących w skład standardowej biblioteki Pythona oraz ustawienie opcji wykorzystywanych pakietów"
   ]
  },
  {
   "cell_type": "code",
   "execution_count": 4,
   "id": "c6aefef5-b6e6-4e97-a057-747d6510634c",
   "metadata": {
    "deletable": false,
    "nbgrader": {
     "cell_type": "code",
     "checksum": "5e21d8dca6b79b399dc8ed524cfa7b27",
     "grade": true,
     "grade_id": "cell-a46c08df43df6fd7",
     "locked": false,
     "points": 0,
     "schema_version": 3,
     "solution": true,
     "task": false
    },
    "tags": []
   },
   "outputs": [],
   "source": [
    "# Miejsce do wklejenie funkcji ze wcześniejszych zestawów zadań\n",
    "# YOUR CODE HERE\n",
    "def point_count_on_subregions(points, subregions):\n",
    "    \"\"\"\n",
    "    Parameters\n",
    "    -------\n",
    "    points: GeoSeries\n",
    "        Tablica zawierająca punkty zapisane jako obiekty shapely.geometry.point.Point.\n",
    "    subregions: GeoDataFrame\n",
    "        Tablica zawierająca geometrie podobszarów zapisane jako obiekty shapely.geometry.polygon.Polygon.\n",
    "    Returns\n",
    "    -------\n",
    "    counts: Series\n",
    "        Seria Pandas zawierająca liczbą punktów przypisanych do każdego z podobszarów.\n",
    "    \"\"\"\n",
    "    # YOUR CODE HERE\n",
    "    cnt = np.zeros_like(subregions)\n",
    "    l=0\n",
    "    for i in subregions:\n",
    "        for j in points:\n",
    "            if (j.within(i) == True):\n",
    "                cnt[l] += 1\n",
    "        l += 1\n",
    "    \n",
    "    counts = pd.Series(data = cnt)\n",
    "    \n",
    "    return counts\n",
    "    #raise NotImplementedError()\n",
    "\n",
    "def intensity_on_subregions(points, subregions):\n",
    "    \"\"\"\n",
    "    Parameters\n",
    "    -------\n",
    "    points: GeoSeries\n",
    "        Tablica zawierająca punkty zapisane jako obiekty shapely.geometry.point.Point.\n",
    "    subregions: GeoDataFrame\n",
    "        Tablica zawierająca geometrie podobszarów zapisane jako obiekty shapely.geometry.polygon.Polygon.\n",
    "    Returns\n",
    "    -------\n",
    "    intensity: Series\n",
    "        Seria Pandas zawierająca intensywność przypisaną do każdego z podobszarów.\n",
    "    \"\"\"\n",
    "    # YOUR CODE HERE\n",
    "    point_counts = point_count_on_subregions(points, subregions)\n",
    "    area = subregions.area\n",
    "    inten = point_counts/area\n",
    "    intensity = pd.Series(data=inten)\n",
    "    return intensity\n",
    "    #raise NotImplementedError()\n",
    "    \n",
    "def spatial_lag(binned_data):\n",
    "    \"\"\"\n",
    "    Parameters\n",
    "    -------\n",
    "    binned_data: list\n",
    "        Lista zawierająca trzy macierze:\n",
    "        - 1D ze współrzędnymi krawędzi podobszarów na osi X,\n",
    "        - 1D ze współrzędnymi krawędzi podobszarów na osi Y,\n",
    "        - 2D z liczbą punków przypisanych do każdego z podobszarów.\n",
    "        Na przykład: [array([0, 1, 2]), array([0, 1, 2]), array([[7, 2], [4, 5]])]\n",
    "\n",
    "    Returns\n",
    "    -------\n",
    "    lagged_data: list\n",
    "        Lista zawierająca trzy macierze:\n",
    "        - 1D ze współrzędnymi krawędzi podobszarów na osi X,\n",
    "        - 1D ze współrzędnymi krawędzi podobszarów na osi Y,\n",
    "        - 2D z wyliczonymi wartościami opóźnienia przestrzennego.\n",
    "        Na przykład: [array([0, 1, 2]), array([0, 1, 2]), array([[7, 2], [4, 5]])]\n",
    "    \"\"\"    \n",
    "    # YOUR CODE HERE\n",
    "    W = spatial_weights(binned_data[2])\n",
    "    X = binned_data[2].flatten()\n",
    "    LC = np.zeros(len(X))\n",
    "    for i in range (len(X)):\n",
    "        LC[i] = sum(X*W[i,:])/(sum(W[i,:]))\n",
    "    \n",
    "    SL = np.reshape(LC, ((binned_data[2].shape[0], binned_data[2].shape[1])))\n",
    "          \n",
    "    array = [binned_data[0], binned_data[1], SL]\n",
    "    \n",
    "    return array\n",
    "def moran_plot_data(bin_counts, lagged_counts):\n",
    "    \"\"\"\n",
    "    Parameters\n",
    "    -------\n",
    "    bin_counts: array\n",
    "        Macierz 2D z liczbą punków przypisanych do każdego z podobszarów.\n",
    "    lagged_counts: array\n",
    "        Macierz 2D z wartościami opóźnienia przestrzennego przypisanego do każdego z podobszarów.\n",
    "\n",
    "    Returns\n",
    "    -------\n",
    "    moran_plot_data: DataFrame\n",
    "        Tablica zawierająca dwie kolumny danych niebędnych do wykonania wykresu Morana:\n",
    "        - \"AG_STD\" - ustandarywowane dane zagregowane,\n",
    "        - \"SL_STD\" - ustandarywzowane wartości opóźnienia przestrzennego.\n",
    "    \"\"\" \n",
    "    # YOUR CODE HERE\n",
    "    bin_counts = bin_counts.flatten()\n",
    "    lagged_counts = lagged_counts.flatten()\n",
    "    \n",
    "    ag_std = bin_counts - sum(bin_counts)/len(bin_counts)\n",
    "    sl_std = lagged_counts - sum(lagged_counts)/len(lagged_counts)\n",
    "    \n",
    "    array = pd.DataFrame(data={\"AG_STD\":ag_std, \"SL_STD\":sl_std})\n",
    "    \n",
    "    return array\n",
    "# raise NotImplementedError()"
   ]
  },
  {
   "cell_type": "markdown",
   "id": "603eda5e-a368-4dd6-ae49-964d6b182347",
   "metadata": {
    "deletable": false,
    "editable": false,
    "nbgrader": {
     "cell_type": "markdown",
     "checksum": "ce342baf7e0f810bc9ae826b7dcea483",
     "grade": false,
     "grade_id": "cell-f9831d700fb0566c",
     "locked": true,
     "schema_version": 3,
     "solution": false,
     "task": false
    },
    "tags": []
   },
   "source": [
    "#### UWAGA!\n",
    "Znaczna część przykładów i dokumentacji modułów wchodzących w skład pakietu pysal dostępna w internecie nie dotyczny ich najnowszych wersji.\n",
    "Z tego powodu lepiej jest zdobywać informacje na temat wykorzystywanych modułów, klas i funkcji z wykorzystaniem funkcji help(), np.: help(ps), help(pp), help(pp.pointpattern)."
   ]
  },
  {
   "cell_type": "markdown",
   "id": "11653a05-5bd0-4169-87cb-e5173bd99c66",
   "metadata": {
    "deletable": false,
    "editable": false,
    "nbgrader": {
     "cell_type": "markdown",
     "checksum": "cd33728a246ab1fdf6f15d3fbca9f2ab",
     "grade": false,
     "grade_id": "cell-3d9b6dc04e7b8e64",
     "locked": true,
     "schema_version": 3,
     "solution": false,
     "task": false
    },
    "tags": []
   },
   "source": [
    "### Import i przygotowanie danych\n",
    "Wykorzystując funkcję `geopandas.read_file()` zaimportuj do notatnika dane z dołączonych do niego plików (zakres importowanych danych i odwzorowanie kartograficzne nie wymagają zmian). Następnie, wykorzystując funkcję `geopandas.GeoDataFrame.dissolve()` przygotuj tablicę zawierającą geometrię granic całego kraju. Dostosuj informację znajdującą się w kolumnie \"Nazwa\" stworzonej tablicy do informacji w niej zawartej.\n",
    "\n",
    "UWAGA! Import i przygotowanie danych identyczne jak w poprzednim zestawie."
   ]
  },
  {
   "cell_type": "code",
   "execution_count": 5,
   "id": "1ec93e1d-9486-4e87-a1f2-ebdfdcc82dcc",
   "metadata": {
    "deletable": false,
    "nbgrader": {
     "cell_type": "code",
     "checksum": "43c81c920584796425ffe70816bfb4d0",
     "grade": true,
     "grade_id": "cell-9c5827e1303cedf5",
     "locked": false,
     "points": 0,
     "schema_version": 3,
     "solution": true,
     "task": false
    },
    "tags": []
   },
   "outputs": [],
   "source": [
    "# YOUR CODE HERE\n",
    "powiaty = gpd.read_file(\"C:/Users/zuzka/Documents/studia/semestr_3/analiza_danych_przestrzennych/zz9/Powiaty.zip\")\n",
    "points_1 = gpd.read_file(\"C:/Users/zuzka/Documents/studia/semestr_3/analiza_danych_przestrzennych/zz9/points_1.zip\")\n",
    "points_2 = gpd.read_file(\"C:/Users/zuzka/Documents/studia/semestr_3/analiza_danych_przestrzennych/zz9/points_2.zip\")\n",
    "points_3 = gpd.read_file(\"C:/Users/zuzka/Documents/studia/semestr_3/analiza_danych_przestrzennych/zz9/points_3.zip\")\n",
    "points_4 = gpd.read_file(\"C:/Users/zuzka/Documents/studia/semestr_3/analiza_danych_przestrzennych/zz9/points_4.zip\")\n",
    "points_5 = gpd.read_file(\"C:/Users/zuzka/Documents/studia/semestr_3/analiza_danych_przestrzennych/zz9/points_5.zip\")\n",
    "\n",
    "granice_pl=powiaty.dissolve()\n",
    "granice_pl[\"Nazwa\"] = granice_pl[\"Nazwa\"].replace([\"powiat ropczycko-sędziszowski\"], \"Polska\")\n",
    "# raise NotImplementedError()"
   ]
  },
  {
   "cell_type": "markdown",
   "id": "5906542a-4455-4ca5-b2c9-1cdebd5cf06d",
   "metadata": {
    "deletable": false,
    "editable": false,
    "nbgrader": {
     "cell_type": "markdown",
     "checksum": "4a00472675c9ce162e799e943b9713a5",
     "grade": false,
     "grade_id": "cell-f97f53b73dba357b",
     "locked": true,
     "schema_version": 3,
     "solution": false,
     "task": false
    },
    "tags": []
   },
   "source": [
    "### Zadanie 1: Analiza Monte-Carlo na przykładzie funkcji G (25 pkt)\n",
    "\n",
    "Korzystając z funkcji `pointpats.distance_statistics.g_test()` przygotuj funkcję `g_test_mc()`, która będzie przeprowadzała analizę Monte-Carlo testowanego rozkładu funkcji oraz przygotowywała dane niezbędne do wizualizacji wyników testu.\n",
    "\n",
    "Funkcja `pointpats.distance_statistics.g_test()` może zostać wykorzystana do wielokrotnego zasymulowania jednorodnego procesu poissona o intensywności równej intensywności testowanego procesu i wyliczeniu funkcji G dla każdego z zasymulowanych rozkładów. Funkcje te mogą posłużyć do wykreślenia obwiedni. Jeżeli funkcja G analizowanego rozkładu w całości znajduje się w obwiedni to nie pa podstaw do odrzucenia HO na rzecz H1. W przeciwnym przypadku następuje odrzucenie H0 na rzecz H1. Poziom istotności wykonywanego testu $\\alpha= \\frac{2}{n-1}$, gdzie $n$ to liczba wykonywanych symulacji.\n",
    "\n",
    "Następnie wykorzystaj przygotowane funkcje do przetestowania rozkładów punktów z plików points_1.zip, points_2.zip i points_3.zip na poziomie istotności $\\alpha=0.05$. \n",
    "\n",
    "Przedstaw wyniki analizy graficznie w postaci wykresów liniowych funkcji G przygotowanych rozkładów punktów z wygenerowaną obwiednią wykorzystywaną w teście statystycznym. Zestaw wyniki na pojedynczej figurze (siatka wykresów 2x3). Umieść analizowane rozkłady punktów w górnym wierszu, a wykresy funkcji G w dolnym wierszu figury. <br/>\n",
    "\n",
    "Przykładowe wyniki pracy funkcji `g_test_mc()`: <br/>\n",
    "<br/>\n",
    "`H0: Testowana zmienna ma jednorodny rozkład losowy Poissona` <br/>\n",
    "`H1: Testowana zmienna nie ma jednorodnego rozkład losowy Poissona` <br/>\n",
    "`Odrzucenie H0 na rzecz H1 na poziomie istotności alpha = 0.02` <br/>\n",
    "<br/>\n",
    "`H0: Testowana zmienna ma jednorodny rozkład losowy Poissona` <br/>\n",
    "`H1: Testowana zmienna nie ma jednorodnego rozkład losowy Poissona` <br/>\n",
    "`Wynik testu istotności nie daje podstaw do odrzucenia H0 na rzecz H1 na poziomie istotności alpha = 0.02` <br/>"
   ]
  },
  {
   "cell_type": "markdown",
   "id": "3791f95e-9f69-4087-a850-ac98fd2a0018",
   "metadata": {
    "deletable": false,
    "editable": false,
    "nbgrader": {
     "cell_type": "markdown",
     "checksum": "a16f2ba4a4548934aa1656485c85fea9",
     "grade": false,
     "grade_id": "cell-813bd1ab8035432d",
     "locked": true,
     "schema_version": 3,
     "solution": false,
     "task": false
    },
    "tags": []
   },
   "source": [
    "#### a) Przygotowanie funkcji"
   ]
  },
  {
   "cell_type": "code",
   "execution_count": 77,
   "id": "50d3ed25-6928-402e-ae5e-9d7e7626853a",
   "metadata": {
    "deletable": false,
    "nbgrader": {
     "cell_type": "code",
     "checksum": "23bf815f05e648189408db667fe29b90",
     "grade": true,
     "grade_id": "cell-2546f8cdd036ac88",
     "locked": false,
     "points": 16,
     "schema_version": 3,
     "solution": true,
     "task": false
    },
    "tags": []
   },
   "outputs": [],
   "source": [
    "def g_test_mc(points, intervals, polygon, number_of_simulations):\n",
    "    \"\"\"\n",
    "    Parameters\n",
    "    -------\n",
    "    points: GeoSeries\n",
    "        Tablica zawierająca punkty zapisane jako obiekty shapely.geometry.point.Point.\n",
    "    intervals: int\n",
    "        Liczba dodatnia określająca na ile części ma zostać podzielony dystans do największej odległosci do najbliższego sąsiada.\n",
    "    polygon: Polygon\n",
    "        Obszar, na którym mają zostać wygenerowane punkty procesu testowego.\n",
    "    number_of_simulations: int\n",
    "        Liczba dodania określająca liczbę wykonywanych symulacji.\n",
    "    \n",
    "    Returns\n",
    "    -------\n",
    "    g: DataFrame\n",
    "        Tablica zawierająca dwie kolumny:\n",
    "        - \"D\" - zawierającą unikalne wartości odległości do najbliższego sąsiada uszeregowane od najmniejszej do największej wartości, dla których wyliczone zostały wartości funkcji G,\n",
    "        - \"G\" - zawierającą wyliczone wartości funkcji G.\n",
    "        - \"G_min\" - zawierającą dolne wartości obwiedni funkcji G.\n",
    "        - \"G_max\" - zawierającą górne wartości obwiedni funkcji G.\n",
    "    \"\"\"  \n",
    "    # YOUR CODE HERE\n",
    "    help(pp.distance_statistics.g_test)\n",
    "    points_x = points.shape[0]\n",
    "    print(points_x)\n",
    "    g_fun = pp.distance_statistics.g_test(points, intervals, hull = polygon, n_simulations = n)\n",
    "    \n",
    "    \n",
    "    \n",
    "    # raise NotImplementedError()"
   ]
  },
  {
   "cell_type": "markdown",
   "id": "c68a0484-c5a4-43bb-9641-77e203d5de3f",
   "metadata": {
    "deletable": false,
    "editable": false,
    "nbgrader": {
     "cell_type": "markdown",
     "checksum": "bd5134bca87f7397d3ec0b108bf4d001",
     "grade": false,
     "grade_id": "cell-5edd92ba05b1daf0",
     "locked": true,
     "schema_version": 3,
     "solution": false,
     "task": false
    },
    "tags": []
   },
   "source": [
    "#### b) Wygenerowanie danych"
   ]
  },
  {
   "cell_type": "code",
   "execution_count": 78,
   "id": "53145ad9-5f70-4f43-8341-3ba049b942cf",
   "metadata": {
    "deletable": false,
    "nbgrader": {
     "cell_type": "code",
     "checksum": "2c1b64595c250614ec592e4e094e72b9",
     "grade": true,
     "grade_id": "cell-aaf56027e9dcf701",
     "locked": false,
     "points": 2,
     "schema_version": 3,
     "solution": true,
     "task": false
    },
    "tags": []
   },
   "outputs": [
    {
     "name": "stdout",
     "output_type": "stream",
     "text": [
      "     FID                       geometry\n",
      "0      0  POINT (622278.818 610345.295)\n",
      "1      1  POINT (500987.264 593163.080)\n",
      "2      2  POINT (472848.491 354957.352)\n",
      "3      3  POINT (353291.629 639997.173)\n",
      "4      4  POINT (794059.692 662023.668)\n",
      "..   ...                            ...\n",
      "294  294  POINT (263876.091 388010.681)\n",
      "295  295  POINT (482754.938 643320.712)\n",
      "296  296  POINT (281402.667 402037.207)\n",
      "297  297  POINT (787042.816 575555.745)\n",
      "298  298  POINT (690389.588 368801.632)\n",
      "\n",
      "[299 rows x 2 columns]\n",
      "Help on function g_test in module pointpats.distance_statistics:\n",
      "\n",
      "g_test(coordinates, support=None, distances=None, metric='euclidean', hull=None, edge_correction=None, keep_simulations=False, n_simulations=9999)\n",
      "    Ripley's G function\n",
      "    \n",
      "    The G function is computed from the cumulative density function of the nearest neighbor \n",
      "    distances between points in the pattern. \n",
      "    \n",
      "    When the G function is below the simulated values, it suggests dispersion. \n",
      "    \n",
      "    Parameters\n",
      "    ----------\n",
      "    coordinates : numpy.ndarray, (n,2)\n",
      "        input coordinates to function\n",
      "    support : tuple of length 1, 2, or 3, int, or numpy.ndarray\n",
      "        tuple, encoding (stop,), (start, stop), or (start, stop, num)\n",
      "        int, encoding number of equally-spaced intervals\n",
      "        numpy.ndarray, used directly within numpy.histogram\n",
      "    distances: numpy.ndarray, (n, p) or (p,)\n",
      "        distances from every point in a random point set of size p\n",
      "        to some point in `coordinates`\n",
      "    metric: str or callable\n",
      "        distance metric to use when building search tree\n",
      "    hull: bounding box, scipy.spatial.ConvexHull, shapely.geometry.Polygon, or pygeos.Geometry\n",
      "        the hull used to construct a random sample pattern, if distances is None\n",
      "    edge_correction: bool or str\n",
      "        whether or not to conduct edge correction. Not yet implemented.\n",
      "    keep_simulations: bool\n",
      "        whether or not to keep the simulation envelopes. If so, \n",
      "        will be returned as the result's simulations attribute\n",
      "    n_simulations: int\n",
      "        how many simulations to conduct, assuming that the reference pattern\n",
      "        has complete spatial randomness. \n",
      "    \n",
      "    Returns\n",
      "    -------\n",
      "    a named tuple with properties \n",
      "    - support, the exact distance values used to evalute the statistic\n",
      "    - statistic, the values of the statistic at each distance\n",
      "    - pvalue, the percent of simulations that were as extreme as the observed value\n",
      "    - simulations, the distribution of simulated statistics (shaped (n_simulations, n_support_points))\n",
      "        or None if keep_simulations=False (which is the default)\n",
      "\n",
      "299\n"
     ]
    },
    {
     "ename": "TypeError",
     "evalue": "float() argument must be a string or a real number, not 'Point'",
     "output_type": "error",
     "traceback": [
      "\u001b[1;31m---------------------------------------------------------------------------\u001b[0m",
      "\u001b[1;31mTypeError\u001b[0m                                 Traceback (most recent call last)",
      "Cell \u001b[1;32mIn[78], line 4\u001b[0m\n\u001b[0;32m      2\u001b[0m n \u001b[38;5;241m=\u001b[39m \u001b[38;5;241m2\u001b[39m\u001b[38;5;241m/\u001b[39m\u001b[38;5;241m0.05\u001b[39m\u001b[38;5;241m+\u001b[39m\u001b[38;5;241m1\u001b[39m\n\u001b[0;32m      3\u001b[0m \u001b[38;5;28mprint\u001b[39m(points_1)\n\u001b[1;32m----> 4\u001b[0m g1 \u001b[38;5;241m=\u001b[39m \u001b[43mg_test_mc\u001b[49m\u001b[43m(\u001b[49m\u001b[43mpoints_1\u001b[49m\u001b[43m[\u001b[49m\u001b[38;5;124;43m\"\u001b[39;49m\u001b[38;5;124;43mgeometry\u001b[39;49m\u001b[38;5;124;43m\"\u001b[39;49m\u001b[43m]\u001b[49m\u001b[43m,\u001b[49m\u001b[43m \u001b[49m\u001b[38;5;241;43m200\u001b[39;49m\u001b[43m,\u001b[49m\u001b[43m \u001b[49m\u001b[43mpowiaty\u001b[49m\u001b[43m[\u001b[49m\u001b[38;5;124;43m\"\u001b[39;49m\u001b[38;5;124;43mgeometry\u001b[39;49m\u001b[38;5;124;43m\"\u001b[39;49m\u001b[43m]\u001b[49m\u001b[43m[\u001b[49m\u001b[38;5;241;43m12\u001b[39;49m\u001b[43m]\u001b[49m\u001b[43m,\u001b[49m\u001b[43m \u001b[49m\u001b[43mn\u001b[49m\u001b[43m)\u001b[49m\n\u001b[0;32m      5\u001b[0m \u001b[38;5;66;03m# g2 = g_test_mc(points_2[\"geometry\"], 200, powiaty[\"geometry\"][12], n)\u001b[39;00m\n\u001b[0;32m      6\u001b[0m \u001b[38;5;66;03m# g3 = g_test_mc(points_3[\"geometry\"], 200, powiaty[\"geometry\"][12], n)\u001b[39;00m\n\u001b[0;32m      7\u001b[0m \n\u001b[0;32m      8\u001b[0m \n\u001b[0;32m      9\u001b[0m \u001b[38;5;66;03m# raise NotImplementedError()\u001b[39;00m\n",
      "Cell \u001b[1;32mIn[77], line 27\u001b[0m, in \u001b[0;36mg_test_mc\u001b[1;34m(points, intervals, polygon, number_of_simulations)\u001b[0m\n\u001b[0;32m     25\u001b[0m points_x \u001b[38;5;241m=\u001b[39m points\u001b[38;5;241m.\u001b[39mshape[\u001b[38;5;241m0\u001b[39m]\n\u001b[0;32m     26\u001b[0m \u001b[38;5;28mprint\u001b[39m(points_x)\n\u001b[1;32m---> 27\u001b[0m g_fun \u001b[38;5;241m=\u001b[39m \u001b[43mpp\u001b[49m\u001b[38;5;241;43m.\u001b[39;49m\u001b[43mdistance_statistics\u001b[49m\u001b[38;5;241;43m.\u001b[39;49m\u001b[43mg_test\u001b[49m\u001b[43m(\u001b[49m\u001b[43mpoints\u001b[49m\u001b[43m,\u001b[49m\u001b[43m \u001b[49m\u001b[43mintervals\u001b[49m\u001b[43m,\u001b[49m\u001b[43m \u001b[49m\u001b[43mhull\u001b[49m\u001b[43m \u001b[49m\u001b[38;5;241;43m=\u001b[39;49m\u001b[43m \u001b[49m\u001b[43mpolygon\u001b[49m\u001b[43m,\u001b[49m\u001b[43m \u001b[49m\u001b[43mn_simulations\u001b[49m\u001b[43m \u001b[49m\u001b[38;5;241;43m=\u001b[39;49m\u001b[43m \u001b[49m\u001b[43mn\u001b[49m\u001b[43m)\u001b[49m\n",
      "File \u001b[1;32m~\\AppData\\Local\\Programs\\Python\\Python311\\Lib\\site-packages\\pointpats\\distance_statistics.py:713\u001b[0m, in \u001b[0;36mg_test\u001b[1;34m(coordinates, support, distances, metric, hull, edge_correction, keep_simulations, n_simulations)\u001b[0m\n\u001b[0;32m    662\u001b[0m \u001b[38;5;28;01mdef\u001b[39;00m \u001b[38;5;21mg_test\u001b[39m(\n\u001b[0;32m    663\u001b[0m     coordinates,\n\u001b[0;32m    664\u001b[0m     support\u001b[38;5;241m=\u001b[39m\u001b[38;5;28;01mNone\u001b[39;00m,\n\u001b[1;32m   (...)\u001b[0m\n\u001b[0;32m    670\u001b[0m     n_simulations\u001b[38;5;241m=\u001b[39m\u001b[38;5;241m9999\u001b[39m,\n\u001b[0;32m    671\u001b[0m ):\n\u001b[0;32m    672\u001b[0m \u001b[38;5;250m    \u001b[39m\u001b[38;5;124;03m\"\"\"\u001b[39;00m\n\u001b[0;32m    673\u001b[0m \u001b[38;5;124;03m    Ripley's G function\u001b[39;00m\n\u001b[0;32m    674\u001b[0m \n\u001b[1;32m   (...)\u001b[0m\n\u001b[0;32m    711\u001b[0m \u001b[38;5;124;03m        or None if keep_simulations=False (which is the default)\u001b[39;00m\n\u001b[0;32m    712\u001b[0m \u001b[38;5;124;03m    \"\"\"\u001b[39;00m\n\u001b[1;32m--> 713\u001b[0m     \u001b[38;5;28;01mreturn\u001b[39;00m \u001b[43m_ripley_test\u001b[49m\u001b[43m(\u001b[49m\n\u001b[0;32m    714\u001b[0m \u001b[43m        \u001b[49m\u001b[38;5;124;43m\"\u001b[39;49m\u001b[38;5;124;43mG\u001b[39;49m\u001b[38;5;124;43m\"\u001b[39;49m\u001b[43m,\u001b[49m\n\u001b[0;32m    715\u001b[0m \u001b[43m        \u001b[49m\u001b[43mcoordinates\u001b[49m\u001b[43m,\u001b[49m\n\u001b[0;32m    716\u001b[0m \u001b[43m        \u001b[49m\u001b[43msupport\u001b[49m\u001b[38;5;241;43m=\u001b[39;49m\u001b[43msupport\u001b[49m\u001b[43m,\u001b[49m\n\u001b[0;32m    717\u001b[0m \u001b[43m        \u001b[49m\u001b[43mdistances\u001b[49m\u001b[38;5;241;43m=\u001b[39;49m\u001b[43mdistances\u001b[49m\u001b[43m,\u001b[49m\n\u001b[0;32m    718\u001b[0m \u001b[43m        \u001b[49m\u001b[43mmetric\u001b[49m\u001b[38;5;241;43m=\u001b[39;49m\u001b[43mmetric\u001b[49m\u001b[43m,\u001b[49m\n\u001b[0;32m    719\u001b[0m \u001b[43m        \u001b[49m\u001b[43mhull\u001b[49m\u001b[38;5;241;43m=\u001b[39;49m\u001b[43mhull\u001b[49m\u001b[43m,\u001b[49m\n\u001b[0;32m    720\u001b[0m \u001b[43m        \u001b[49m\u001b[43medge_correction\u001b[49m\u001b[38;5;241;43m=\u001b[39;49m\u001b[43medge_correction\u001b[49m\u001b[43m,\u001b[49m\n\u001b[0;32m    721\u001b[0m \u001b[43m        \u001b[49m\u001b[43mkeep_simulations\u001b[49m\u001b[38;5;241;43m=\u001b[39;49m\u001b[43mkeep_simulations\u001b[49m\u001b[43m,\u001b[49m\n\u001b[0;32m    722\u001b[0m \u001b[43m        \u001b[49m\u001b[43mn_simulations\u001b[49m\u001b[38;5;241;43m=\u001b[39;49m\u001b[43mn_simulations\u001b[49m\u001b[43m,\u001b[49m\n\u001b[0;32m    723\u001b[0m \u001b[43m    \u001b[49m\u001b[43m)\u001b[49m\n",
      "File \u001b[1;32m~\\AppData\\Local\\Programs\\Python\\Python311\\Lib\\site-packages\\pointpats\\distance_statistics.py:543\u001b[0m, in \u001b[0;36m_ripley_test\u001b[1;34m(calltype, coordinates, support, distances, metric, hull, edge_correction, keep_simulations, n_simulations, **kwargs)\u001b[0m\n\u001b[0;32m    541\u001b[0m stat_function, result_container \u001b[38;5;241m=\u001b[39m _ripley_dispatch\u001b[38;5;241m.\u001b[39mget(calltype)\n\u001b[0;32m    542\u001b[0m core_kwargs \u001b[38;5;241m=\u001b[39m \u001b[38;5;28mdict\u001b[39m(support\u001b[38;5;241m=\u001b[39msupport, metric\u001b[38;5;241m=\u001b[39mmetric, edge_correction\u001b[38;5;241m=\u001b[39medge_correction,)\n\u001b[1;32m--> 543\u001b[0m tree \u001b[38;5;241m=\u001b[39m \u001b[43m_build_best_tree\u001b[49m\u001b[43m(\u001b[49m\u001b[43mcoordinates\u001b[49m\u001b[43m,\u001b[49m\u001b[43m \u001b[49m\u001b[43mmetric\u001b[49m\u001b[38;5;241;43m=\u001b[39;49m\u001b[43mmetric\u001b[49m\u001b[43m)\u001b[49m\n\u001b[0;32m    544\u001b[0m hull \u001b[38;5;241m=\u001b[39m _prepare_hull(coordinates, hull)\n\u001b[0;32m    545\u001b[0m \u001b[38;5;28;01mif\u001b[39;00m calltype \u001b[38;5;129;01min\u001b[39;00m (\u001b[38;5;124m\"\u001b[39m\u001b[38;5;124mF\u001b[39m\u001b[38;5;124m\"\u001b[39m, \u001b[38;5;124m\"\u001b[39m\u001b[38;5;124mJ\u001b[39m\u001b[38;5;124m\"\u001b[39m):  \u001b[38;5;66;03m# these require simulations\u001b[39;00m\n",
      "File \u001b[1;32m~\\AppData\\Local\\Programs\\Python\\Python311\\Lib\\site-packages\\pointpats\\geometry.py:329\u001b[0m, in \u001b[0;36mbuild_best_tree\u001b[1;34m(coordinates, metric)\u001b[0m\n\u001b[0;32m    323\u001b[0m     \u001b[38;5;28;01mif\u001b[39;00m metric \u001b[38;5;129;01mnot\u001b[39;00m \u001b[38;5;129;01min\u001b[39;00m (\u001b[38;5;124m\"\u001b[39m\u001b[38;5;124ml2\u001b[39m\u001b[38;5;124m\"\u001b[39m, \u001b[38;5;124m\"\u001b[39m\u001b[38;5;124meuclidean\u001b[39m\u001b[38;5;124m\"\u001b[39m):\n\u001b[0;32m    324\u001b[0m         \u001b[38;5;28;01mraise\u001b[39;00m \u001b[38;5;167;01mKeyError\u001b[39;00m(\n\u001b[0;32m    325\u001b[0m             \u001b[38;5;124mf\u001b[39m\u001b[38;5;124m\"\u001b[39m\u001b[38;5;124mMetric \u001b[39m\u001b[38;5;132;01m{\u001b[39;00mmetric\u001b[38;5;132;01m}\u001b[39;00m\u001b[38;5;124m requested, but this requires\u001b[39m\u001b[38;5;124m\"\u001b[39m\n\u001b[0;32m    326\u001b[0m             \u001b[38;5;124mf\u001b[39m\u001b[38;5;124m\"\u001b[39m\u001b[38;5;124m scikit-learn to use. Without scikit-learn, only\u001b[39m\u001b[38;5;124m\"\u001b[39m\n\u001b[0;32m    327\u001b[0m             \u001b[38;5;124mf\u001b[39m\u001b[38;5;124m\"\u001b[39m\u001b[38;5;124m euclidean distance metric is supported.\u001b[39m\u001b[38;5;124m\"\u001b[39m\n\u001b[0;32m    328\u001b[0m         )\n\u001b[1;32m--> 329\u001b[0m \u001b[38;5;28;01mreturn\u001b[39;00m \u001b[43mtree\u001b[49m\u001b[43m(\u001b[49m\u001b[43mcoordinates\u001b[49m\u001b[43m)\u001b[49m\n",
      "File \u001b[1;32m~\\AppData\\Local\\Programs\\Python\\Python311\\Lib\\site-packages\\pointpats\\geometry.py:306\u001b[0m, in \u001b[0;36mbuild_best_tree.<locals>.<lambda>\u001b[1;34m(coordinates)\u001b[0m\n\u001b[0;32m    303\u001b[0m \u001b[38;5;28;01mfrom\u001b[39;00m \u001b[38;5;21;01msklearn\u001b[39;00m\u001b[38;5;21;01m.\u001b[39;00m\u001b[38;5;21;01mneighbors\u001b[39;00m \u001b[38;5;28;01mimport\u001b[39;00m KDTree, BallTree\n\u001b[0;32m    305\u001b[0m \u001b[38;5;28;01mif\u001b[39;00m metric \u001b[38;5;129;01min\u001b[39;00m KDTree\u001b[38;5;241m.\u001b[39mvalid_metrics:\n\u001b[1;32m--> 306\u001b[0m     tree \u001b[38;5;241m=\u001b[39m \u001b[38;5;28;01mlambda\u001b[39;00m coordinates: \u001b[43mKDTree\u001b[49m\u001b[43m(\u001b[49m\u001b[43mcoordinates\u001b[49m\u001b[43m,\u001b[49m\u001b[43m \u001b[49m\u001b[43mmetric\u001b[49m\u001b[38;5;241;43m=\u001b[39;49m\u001b[43mmetric\u001b[49m\u001b[43m)\u001b[49m\n\u001b[0;32m    307\u001b[0m \u001b[38;5;28;01melif\u001b[39;00m metric \u001b[38;5;129;01min\u001b[39;00m BallTree\u001b[38;5;241m.\u001b[39mvalid_metrics:\n\u001b[0;32m    308\u001b[0m     tree \u001b[38;5;241m=\u001b[39m \u001b[38;5;28;01mlambda\u001b[39;00m coordinates: BallTree(coordinates, metric\u001b[38;5;241m=\u001b[39mmetric)\n",
      "File \u001b[1;32msklearn\\neighbors\\_binary_tree.pxi:833\u001b[0m, in \u001b[0;36msklearn.neighbors._kd_tree.BinaryTree.__init__\u001b[1;34m()\u001b[0m\n",
      "File \u001b[1;32m~\\AppData\\Local\\Programs\\Python\\Python311\\Lib\\site-packages\\sklearn\\utils\\validation.py:879\u001b[0m, in \u001b[0;36mcheck_array\u001b[1;34m(array, accept_sparse, accept_large_sparse, dtype, order, copy, force_all_finite, ensure_2d, allow_nd, ensure_min_samples, ensure_min_features, estimator, input_name)\u001b[0m\n\u001b[0;32m    877\u001b[0m         array \u001b[38;5;241m=\u001b[39m xp\u001b[38;5;241m.\u001b[39mastype(array, dtype, copy\u001b[38;5;241m=\u001b[39m\u001b[38;5;28;01mFalse\u001b[39;00m)\n\u001b[0;32m    878\u001b[0m     \u001b[38;5;28;01melse\u001b[39;00m:\n\u001b[1;32m--> 879\u001b[0m         array \u001b[38;5;241m=\u001b[39m \u001b[43m_asarray_with_order\u001b[49m\u001b[43m(\u001b[49m\u001b[43marray\u001b[49m\u001b[43m,\u001b[49m\u001b[43m \u001b[49m\u001b[43morder\u001b[49m\u001b[38;5;241;43m=\u001b[39;49m\u001b[43morder\u001b[49m\u001b[43m,\u001b[49m\u001b[43m \u001b[49m\u001b[43mdtype\u001b[49m\u001b[38;5;241;43m=\u001b[39;49m\u001b[43mdtype\u001b[49m\u001b[43m,\u001b[49m\u001b[43m \u001b[49m\u001b[43mxp\u001b[49m\u001b[38;5;241;43m=\u001b[39;49m\u001b[43mxp\u001b[49m\u001b[43m)\u001b[49m\n\u001b[0;32m    880\u001b[0m \u001b[38;5;28;01mexcept\u001b[39;00m ComplexWarning \u001b[38;5;28;01mas\u001b[39;00m complex_warning:\n\u001b[0;32m    881\u001b[0m     \u001b[38;5;28;01mraise\u001b[39;00m \u001b[38;5;167;01mValueError\u001b[39;00m(\n\u001b[0;32m    882\u001b[0m         \u001b[38;5;124m\"\u001b[39m\u001b[38;5;124mComplex data not supported\u001b[39m\u001b[38;5;130;01m\\n\u001b[39;00m\u001b[38;5;132;01m{}\u001b[39;00m\u001b[38;5;130;01m\\n\u001b[39;00m\u001b[38;5;124m\"\u001b[39m\u001b[38;5;241m.\u001b[39mformat(array)\n\u001b[0;32m    883\u001b[0m     ) \u001b[38;5;28;01mfrom\u001b[39;00m \u001b[38;5;21;01mcomplex_warning\u001b[39;00m\n",
      "File \u001b[1;32m~\\AppData\\Local\\Programs\\Python\\Python311\\Lib\\site-packages\\sklearn\\utils\\_array_api.py:185\u001b[0m, in \u001b[0;36m_asarray_with_order\u001b[1;34m(array, dtype, order, copy, xp)\u001b[0m\n\u001b[0;32m    182\u001b[0m     xp, _ \u001b[38;5;241m=\u001b[39m get_namespace(array)\n\u001b[0;32m    183\u001b[0m \u001b[38;5;28;01mif\u001b[39;00m xp\u001b[38;5;241m.\u001b[39m\u001b[38;5;18m__name__\u001b[39m \u001b[38;5;129;01min\u001b[39;00m {\u001b[38;5;124m\"\u001b[39m\u001b[38;5;124mnumpy\u001b[39m\u001b[38;5;124m\"\u001b[39m, \u001b[38;5;124m\"\u001b[39m\u001b[38;5;124mnumpy.array_api\u001b[39m\u001b[38;5;124m\"\u001b[39m}:\n\u001b[0;32m    184\u001b[0m     \u001b[38;5;66;03m# Use NumPy API to support order\u001b[39;00m\n\u001b[1;32m--> 185\u001b[0m     array \u001b[38;5;241m=\u001b[39m \u001b[43mnumpy\u001b[49m\u001b[38;5;241;43m.\u001b[39;49m\u001b[43masarray\u001b[49m\u001b[43m(\u001b[49m\u001b[43marray\u001b[49m\u001b[43m,\u001b[49m\u001b[43m \u001b[49m\u001b[43morder\u001b[49m\u001b[38;5;241;43m=\u001b[39;49m\u001b[43morder\u001b[49m\u001b[43m,\u001b[49m\u001b[43m \u001b[49m\u001b[43mdtype\u001b[49m\u001b[38;5;241;43m=\u001b[39;49m\u001b[43mdtype\u001b[49m\u001b[43m)\u001b[49m\n\u001b[0;32m    186\u001b[0m     \u001b[38;5;28;01mreturn\u001b[39;00m xp\u001b[38;5;241m.\u001b[39masarray(array, copy\u001b[38;5;241m=\u001b[39mcopy)\n\u001b[0;32m    187\u001b[0m \u001b[38;5;28;01melse\u001b[39;00m:\n",
      "\u001b[1;31mTypeError\u001b[0m: float() argument must be a string or a real number, not 'Point'"
     ]
    }
   ],
   "source": [
    "# YOUR CODE HERE\n",
    "n = 2/0.05+1\n",
    "print(points_1)\n",
    "g1 = g_test_mc(points_1[\"geometry\"], 200, powiaty[\"geometry\"][12], n)\n",
    "# g2 = g_test_mc(points_2[\"geometry\"], 200, powiaty[\"geometry\"][12], n)\n",
    "# g3 = g_test_mc(points_3[\"geometry\"], 200, powiaty[\"geometry\"][12], n)\n",
    "\n",
    "\n",
    "# raise NotImplementedError()"
   ]
  },
  {
   "cell_type": "markdown",
   "id": "f0e1976d-2a2f-4c12-bafd-8e800df5757e",
   "metadata": {
    "deletable": false,
    "editable": false,
    "nbgrader": {
     "cell_type": "markdown",
     "checksum": "52fa3126439683910d0d19557d5e50d9",
     "grade": false,
     "grade_id": "cell-c833a8838b829a62",
     "locked": true,
     "schema_version": 3,
     "solution": false,
     "task": false
    },
    "tags": []
   },
   "source": [
    "#### c) Wizualizacja"
   ]
  },
  {
   "cell_type": "code",
   "execution_count": 54,
   "id": "4f597e0c-1430-455f-87a7-bba10df9d90c",
   "metadata": {
    "deletable": false,
    "nbgrader": {
     "cell_type": "code",
     "checksum": "877c62399e22edbcd812bee0ed811eb0",
     "grade": true,
     "grade_id": "cell-7c77777a4ace8147",
     "locked": false,
     "points": 7,
     "schema_version": 3,
     "solution": true,
     "task": false
    },
    "tags": []
   },
   "outputs": [],
   "source": [
    "# YOUR CODE HERE\n",
    "# raise NotImplementedError()"
   ]
  },
  {
   "cell_type": "markdown",
   "id": "e689bc30-f8f3-4af8-98a0-ddab68eeb5c4",
   "metadata": {
    "deletable": false,
    "editable": false,
    "nbgrader": {
     "cell_type": "markdown",
     "checksum": "19a38f252fcf2afa64f566a2cb2d0818",
     "grade": false,
     "grade_id": "cell-a9c7e5b3580a36b0",
     "locked": true,
     "schema_version": 3,
     "solution": false,
     "task": false
    },
    "tags": []
   },
   "source": [
    "### Zadanie 2: Autokorelacja przestrzenna danych (25 pkt)\n",
    "\n",
    "Przygotuj funkcję `spatial_autocorelation_data()`, która będzie przygotowywać dane niezbędne do oceny autokorelacji przestrzennej analizowanych danych.\n",
    "\n",
    "Schemat postępowania:\n",
    "- zagreguj dane na obszarze poszczegolnych powiatów (ze względu na różnice w powierzchni obszarów skorzystaj z wyliczonych dla nich wartości intensywności, a nie samej liczby zliczeń w ich obrębie),\n",
    "- wyznacz macierz wag przestrzennych,\n",
    "- wylicz opóźnienie przestrzenne,\n",
    "- przygotuj dane niezbędne do wykonania wykresu Morana.\n",
    "\n",
    "Następnie wykorzystaj przygotowane funkcje do oceny autokorelacji przestrzennej rozkładów punktów z plików points_4.zip i points_5.zip.\n",
    "Przedstaw wyniki analizy graficznie w postaci kartogramów intensywności i opóźnienia przestrzennego z nałożonymi na nie rozkładami punktów oraz za pomocą wykresów Morana. Zestaw wyniki na pojedynczej figurze (siatka wykresów 2x3).\n",
    "\n",
    "Przydatne klasy i funkcje:\n",
    "- `libpysal.weights.Queen()`\n",
    "- `libpysal.weights.Rook()`\n",
    "- `libpysal.spatial_lag.lag_spatial()`"
   ]
  },
  {
   "cell_type": "markdown",
   "id": "e4436b49-49fc-4990-89b8-3a237be4838d",
   "metadata": {
    "deletable": false,
    "editable": false,
    "nbgrader": {
     "cell_type": "markdown",
     "checksum": "5353570b16455472431e4b89490ee75d",
     "grade": false,
     "grade_id": "cell-61d7f89ab3dff067",
     "locked": true,
     "schema_version": 3,
     "solution": false,
     "task": false
    },
    "tags": []
   },
   "source": [
    "#### a) Przygotowanie funkcji"
   ]
  },
  {
   "cell_type": "code",
   "execution_count": 47,
   "id": "b6ae843f-c937-4b0c-a677-3ba61359cb67",
   "metadata": {
    "deletable": false,
    "nbgrader": {
     "cell_type": "code",
     "checksum": "db8df7d3749d1b11e9f9da6be0f0c251",
     "grade": true,
     "grade_id": "cell-a95a4c2382040fd3",
     "locked": false,
     "points": 16,
     "schema_version": 3,
     "solution": true,
     "task": false
    },
    "tags": []
   },
   "outputs": [],
   "source": [
    "def spatial_autocorelation_data(points, subregions):\n",
    "    \"\"\"\n",
    "    Parameters\n",
    "    -------\n",
    "    points: GeoSeries\n",
    "        Tablica zawierająca punkty zapisane jako obiekty shapely.geometry.point.Point.\n",
    "    subregions: GeoDataFrame\n",
    "        Tablica zawierająca geometrie podobszarów zapisane jako obiekty shapely.geometry.polygon.Polygon.\n",
    "    Returns\n",
    "    -------\n",
    "    moran_plot_data: GeoDataFrame\n",
    "        Obiekt GeoDataFrame zawierający następujące kolumny:\n",
    "        \"geometry\" - kolumna z geometrią podobszarów,\n",
    "        \"intensity\" - wartości intesywności procesu w obrębie poszczególnych podobszarów,\n",
    "        \"lag\" - wartości opóźnienia przestrzennego w obrębie poszczególnych podobszarów,\n",
    "        \"intensity_std\" - ustandaryzowane wartości intensywności.\n",
    "        \"lag_std\" - ustandaryzowane wartości opóźnienia przestrzennego.\n",
    "    \"\"\"\n",
    "    # YOUR CODE HERE\n",
    "    intensity = intensity_on_subregions(points, subregions)\n",
    "    intensity = intensity.astype(float)\n",
    "    points_weight = ps.weights.Queen(subregions)\n",
    "    lag = ps.weights.lag_spatial(points_weight,intensity)\n",
    "    intensity_std = intensity - np.mean(intensity)\n",
    "    lag_std = lag - np.mean(lag)\n",
    "    moran_plot_data = gpd.GeoDataFrame(data={\"geometry\":subregions,\"intensity\":intensity,\"lag\":lag,\"intensity_std\":intensity_std,\"lag_std\":lag_std})\n",
    "    return moran_plot_data"
   ]
  },
  {
   "cell_type": "code",
   "execution_count": 48,
   "id": "c762eb5a-142a-4f97-b1c1-ad281932ac48",
   "metadata": {
    "deletable": false,
    "nbgrader": {
     "cell_type": "code",
     "checksum": "db8df7d3749d1b11e9f9da6be0f0c251",
     "grade": true,
     "grade_id": "cell-a95a4c2382040fd3",
     "locked": false,
     "points": 16,
     "schema_version": 3,
     "solution": true,
     "task": false
    },
    "tags": []
   },
   "outputs": [],
   "source": [
    "    # raise NotImplementedError()"
   ]
  },
  {
   "cell_type": "markdown",
   "id": "f7fdddea-ec6e-424e-970b-91c91262d419",
   "metadata": {
    "deletable": false,
    "editable": false,
    "nbgrader": {
     "cell_type": "markdown",
     "checksum": "81263f86eacd34b1a6192443f1002ba8",
     "grade": false,
     "grade_id": "cell-f815e6a593bbdee0",
     "locked": true,
     "schema_version": 3,
     "solution": false,
     "task": false
    },
    "tags": []
   },
   "source": [
    "#### b) Wygenerowanie danych"
   ]
  },
  {
   "cell_type": "code",
   "execution_count": 49,
   "id": "1338f19a-f00b-4cce-b67f-d0b92616deb8",
   "metadata": {
    "deletable": false,
    "nbgrader": {
     "cell_type": "code",
     "checksum": "3095d83ed84557f3703b8d101e78b9ea",
     "grade": true,
     "grade_id": "cell-cabc13b36fb45632",
     "locked": false,
     "points": 2,
     "schema_version": 3,
     "solution": true,
     "task": false
    },
    "tags": []
   },
   "outputs": [
    {
     "data": {
      "text/html": [
       "<div>\n",
       "<style scoped>\n",
       "    .dataframe tbody tr th:only-of-type {\n",
       "        vertical-align: middle;\n",
       "    }\n",
       "\n",
       "    .dataframe tbody tr th {\n",
       "        vertical-align: top;\n",
       "    }\n",
       "\n",
       "    .dataframe thead th {\n",
       "        text-align: right;\n",
       "    }\n",
       "</style>\n",
       "<table border=\"1\" class=\"dataframe\">\n",
       "  <thead>\n",
       "    <tr style=\"text-align: right;\">\n",
       "      <th></th>\n",
       "      <th>geometry</th>\n",
       "      <th>intensity</th>\n",
       "      <th>lag</th>\n",
       "      <th>intensity_std</th>\n",
       "      <th>lag_std</th>\n",
       "    </tr>\n",
       "  </thead>\n",
       "  <tbody>\n",
       "    <tr>\n",
       "      <th>0</th>\n",
       "      <td>POLYGON ((692305.365 260282.248, 692313.646 26...</td>\n",
       "      <td>5.474220e-09</td>\n",
       "      <td>1.642933e-08</td>\n",
       "      <td>2.536307e-09</td>\n",
       "      <td>1.173481e-09</td>\n",
       "    </tr>\n",
       "    <tr>\n",
       "      <th>1</th>\n",
       "      <td>POLYGON ((753920.175 497017.076, 753918.822 49...</td>\n",
       "      <td>5.176587e-09</td>\n",
       "      <td>7.334602e-09</td>\n",
       "      <td>2.238673e-09</td>\n",
       "      <td>-7.921252e-09</td>\n",
       "    </tr>\n",
       "    <tr>\n",
       "      <th>2</th>\n",
       "      <td>POLYGON ((644442.384 473992.041, 644345.678 47...</td>\n",
       "      <td>1.611810e-09</td>\n",
       "      <td>5.998462e-09</td>\n",
       "      <td>-1.326103e-09</td>\n",
       "      <td>-9.257392e-09</td>\n",
       "    </tr>\n",
       "    <tr>\n",
       "      <th>3</th>\n",
       "      <td>POLYGON ((638056.482 404421.246, 638059.412 40...</td>\n",
       "      <td>5.233940e-09</td>\n",
       "      <td>4.305789e-08</td>\n",
       "      <td>2.296026e-09</td>\n",
       "      <td>2.780203e-08</td>\n",
       "    </tr>\n",
       "    <tr>\n",
       "      <th>4</th>\n",
       "      <td>POLYGON ((534236.749 555932.727, 534235.027 55...</td>\n",
       "      <td>3.525731e-09</td>\n",
       "      <td>1.855820e-08</td>\n",
       "      <td>5.878178e-10</td>\n",
       "      <td>3.302350e-09</td>\n",
       "    </tr>\n",
       "    <tr>\n",
       "      <th>...</th>\n",
       "      <td>...</td>\n",
       "      <td>...</td>\n",
       "      <td>...</td>\n",
       "      <td>...</td>\n",
       "      <td>...</td>\n",
       "    </tr>\n",
       "    <tr>\n",
       "      <th>375</th>\n",
       "      <td>POLYGON ((521445.985 722541.335, 521523.278 72...</td>\n",
       "      <td>1.485844e-09</td>\n",
       "      <td>5.295900e-09</td>\n",
       "      <td>-1.452070e-09</td>\n",
       "      <td>-9.959954e-09</td>\n",
       "    </tr>\n",
       "    <tr>\n",
       "      <th>376</th>\n",
       "      <td>POLYGON ((303544.254 353195.337, 303547.016 35...</td>\n",
       "      <td>1.721632e-09</td>\n",
       "      <td>2.333402e-08</td>\n",
       "      <td>-1.216282e-09</td>\n",
       "      <td>8.078165e-09</td>\n",
       "    </tr>\n",
       "    <tr>\n",
       "      <th>377</th>\n",
       "      <td>POLYGON ((702854.223 532567.782, 702853.911 53...</td>\n",
       "      <td>2.460101e-09</td>\n",
       "      <td>1.275139e-08</td>\n",
       "      <td>-4.778127e-10</td>\n",
       "      <td>-2.504459e-09</td>\n",
       "    </tr>\n",
       "    <tr>\n",
       "      <th>378</th>\n",
       "      <td>POLYGON ((430377.866 773965.783, 430351.853 77...</td>\n",
       "      <td>2.333131e-09</td>\n",
       "      <td>1.522656e-08</td>\n",
       "      <td>-6.047829e-10</td>\n",
       "      <td>-2.929677e-11</td>\n",
       "    </tr>\n",
       "    <tr>\n",
       "      <th>379</th>\n",
       "      <td>MULTIPOLYGON (((650056.182 292962.307, 650058....</td>\n",
       "      <td>3.245751e-09</td>\n",
       "      <td>1.896620e-08</td>\n",
       "      <td>3.078378e-10</td>\n",
       "      <td>3.710343e-09</td>\n",
       "    </tr>\n",
       "  </tbody>\n",
       "</table>\n",
       "<p>380 rows × 5 columns</p>\n",
       "</div>"
      ],
      "text/plain": [
       "                                              geometry     intensity  \\\n",
       "0    POLYGON ((692305.365 260282.248, 692313.646 26...  5.474220e-09   \n",
       "1    POLYGON ((753920.175 497017.076, 753918.822 49...  5.176587e-09   \n",
       "2    POLYGON ((644442.384 473992.041, 644345.678 47...  1.611810e-09   \n",
       "3    POLYGON ((638056.482 404421.246, 638059.412 40...  5.233940e-09   \n",
       "4    POLYGON ((534236.749 555932.727, 534235.027 55...  3.525731e-09   \n",
       "..                                                 ...           ...   \n",
       "375  POLYGON ((521445.985 722541.335, 521523.278 72...  1.485844e-09   \n",
       "376  POLYGON ((303544.254 353195.337, 303547.016 35...  1.721632e-09   \n",
       "377  POLYGON ((702854.223 532567.782, 702853.911 53...  2.460101e-09   \n",
       "378  POLYGON ((430377.866 773965.783, 430351.853 77...  2.333131e-09   \n",
       "379  MULTIPOLYGON (((650056.182 292962.307, 650058....  3.245751e-09   \n",
       "\n",
       "              lag  intensity_std       lag_std  \n",
       "0    1.642933e-08   2.536307e-09  1.173481e-09  \n",
       "1    7.334602e-09   2.238673e-09 -7.921252e-09  \n",
       "2    5.998462e-09  -1.326103e-09 -9.257392e-09  \n",
       "3    4.305789e-08   2.296026e-09  2.780203e-08  \n",
       "4    1.855820e-08   5.878178e-10  3.302350e-09  \n",
       "..            ...            ...           ...  \n",
       "375  5.295900e-09  -1.452070e-09 -9.959954e-09  \n",
       "376  2.333402e-08  -1.216282e-09  8.078165e-09  \n",
       "377  1.275139e-08  -4.778127e-10 -2.504459e-09  \n",
       "378  1.522656e-08  -6.047829e-10 -2.929677e-11  \n",
       "379  1.896620e-08   3.078378e-10  3.710343e-09  \n",
       "\n",
       "[380 rows x 5 columns]"
      ]
     },
     "execution_count": 49,
     "metadata": {},
     "output_type": "execute_result"
    }
   ],
   "source": [
    "# YOUR CODE HERE\n",
    "i_4 = spatial_autocorelation_data(points_4[\"geometry\"], powiaty[\"geometry\"])\n",
    "i_4\n",
    "# raise NotImplementedError()"
   ]
  },
  {
   "cell_type": "markdown",
   "id": "94727d96-f42c-448c-bdf9-121fc58db068",
   "metadata": {
    "deletable": false,
    "editable": false,
    "nbgrader": {
     "cell_type": "markdown",
     "checksum": "70c9bb68aa724f5c52a504ada843c22c",
     "grade": false,
     "grade_id": "cell-11787190e63930e3",
     "locked": true,
     "schema_version": 3,
     "solution": false,
     "task": false
    },
    "tags": []
   },
   "source": [
    "#### c) Wizualizacja"
   ]
  },
  {
   "cell_type": "code",
   "execution_count": null,
   "id": "fa830341-e673-4da2-8631-173b642d7d10",
   "metadata": {
    "deletable": false,
    "nbgrader": {
     "cell_type": "code",
     "checksum": "62f621ece514cf7578023889f3bd3bfa",
     "grade": true,
     "grade_id": "cell-2c443914a23cc0f2",
     "locked": false,
     "points": 7,
     "schema_version": 3,
     "solution": true,
     "task": false
    },
    "tags": []
   },
   "outputs": [],
   "source": [
    "# YOUR CODE HERE\n",
    "# raise NotImplementedError()"
   ]
  }
 ],
 "metadata": {
  "kernelspec": {
   "display_name": "Python 3 (ipykernel)",
   "language": "python",
   "name": "python3"
  },
  "language_info": {
   "codemirror_mode": {
    "name": "ipython",
    "version": 3
   },
   "file_extension": ".py",
   "mimetype": "text/x-python",
   "name": "python",
   "nbconvert_exporter": "python",
   "pygments_lexer": "ipython3",
   "version": "3.11.1"
  },
  "nteract": {
   "version": "nteract-front-end@1.0.0"
  }
 },
 "nbformat": 4,
 "nbformat_minor": 5
}
